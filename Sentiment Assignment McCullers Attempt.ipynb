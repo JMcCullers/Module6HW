{
 "cells": [
  {
   "cell_type": "markdown",
   "metadata": {},
   "source": [
    "# ADS 509 Sentiment Assignment\n",
    "\n",
    "This notebook holds the Sentiment Assignment for Module 6 in ADS 509, Applied Text Mining. Work through this notebook, writing code and answering questions where required. \n",
    "\n",
    "In a previous assignment you put together Twitter data and lyrics data on two artists. In this assignment we apply sentiment analysis to those data sets. If, for some reason, you did not complete that previous assignment, data to use for this assignment can be found in the assignment materials section of Blackboard. \n"
   ]
  },
  {
   "cell_type": "markdown",
   "metadata": {},
   "source": [
    "## General Assignment Instructions\n",
    "\n",
    "These instructions are included in every assignment, to remind you of the coding standards for the class. Feel free to delete this cell after reading it. \n",
    "\n",
    "One sign of mature code is conforming to a style guide. We recommend the [Google Python Style Guide](https://google.github.io/styleguide/pyguide.html). If you use a different style guide, please include a cell with a link. \n",
    "\n",
    "Your code should be relatively easy-to-read, sensibly commented, and clean. Writing code is a messy process, so please be sure to edit your final submission. Remove any cells that are not needed or parts of cells that contain unnecessary code. Remove inessential `import` statements and make sure that all such statements are moved into the designated cell. \n",
    "\n",
    "Make use of non-code cells for written commentary. These cells should be grammatical and clearly written. In some of these cells you will have questions to answer. The questions will be marked by a \"Q:\" and will have a corresponding \"A:\" spot for you. *Make sure to answer every question marked with a `Q:` for full credit.* \n"
   ]
  },
  {
   "cell_type": "code",
   "execution_count": 1,
   "metadata": {},
   "outputs": [
    {
     "name": "stderr",
     "output_type": "stream",
     "text": [
      "[nltk_data] Downloading package stopwords to\n",
      "[nltk_data]     C:\\Users\\jackt\\AppData\\Roaming\\nltk_data...\n",
      "[nltk_data]   Package stopwords is already up-to-date!\n",
      "[nltk_data] Downloading package punkt to\n",
      "[nltk_data]     C:\\Users\\jackt\\AppData\\Roaming\\nltk_data...\n",
      "[nltk_data]   Unzipping tokenizers\\punkt.zip.\n"
     ]
    }
   ],
   "source": [
    "import os\n",
    "import re\n",
    "import emoji\n",
    "import pandas as pd\n",
    "import numpy as np\n",
    "\n",
    "from collections import Counter, defaultdict\n",
    "from string import punctuation\n",
    "\n",
    "import nltk\n",
    "nltk.download('stopwords')\n",
    "nltk.download('punkt')\n",
    "from nltk.corpus import stopwords\n",
    "\n",
    "sw = stopwords.words(\"english\")"
   ]
  },
  {
   "cell_type": "code",
   "execution_count": 2,
   "metadata": {},
   "outputs": [],
   "source": [
    "# Add any additional import statements you need here\n",
    "\n",
    "\n"
   ]
  },
  {
   "cell_type": "code",
   "execution_count": 3,
   "metadata": {},
   "outputs": [],
   "source": [
    "# change `data_location` to the location of the folder on your machine.\n",
    "data_location = \"./M1 Results/\"\n",
    "\n",
    "# These subfolders should still work if you correctly stored the \n",
    "# data from the Module 1 assignment\n",
    "twitter_folder = \"twitter/\"\n",
    "lyrics_folder = \"lyrics/\"\n",
    "\n",
    "positive_words_file = \"positive-words.txt\"\n",
    "negative_words_file = \"negative-words.txt\"\n",
    "tidy_text_file = \"tidytext_sentiments.txt\""
   ]
  },
  {
   "cell_type": "markdown",
   "metadata": {},
   "source": [
    "## Data Input\n",
    "\n",
    "Now read in each of the corpora. For the lyrics data, it may be convenient to store the entire contents of the file to make it easier to inspect the titles individually, as you'll do in the last part of the assignment. In the solution, I stored the lyrics data in a dictionary with two dimensions of keys: artist and song. The value was the file contents. A Pandas data frame would work equally well. \n",
    "\n",
    "For the Twitter data, we only need the description field for this assignment. Feel free all the descriptions read it into a data structure. In the solution, I stored the descriptions as a dictionary of lists, with the key being the artist. \n",
    "\n",
    "\n"
   ]
  },
  {
   "cell_type": "code",
   "execution_count": 4,
   "metadata": {},
   "outputs": [
    {
     "name": "stdout",
     "output_type": "stream",
     "text": [
      "Read lyrics: 313 songs of cher\n",
      "Read lyrics: 93 songs of robyn\n"
     ]
    }
   ],
   "source": [
    "# Read in the lyrics data:\n",
    "\n",
    "root_path = \"./M1 Results/lyrics\"\n",
    "lyric_data = dict()\n",
    "for dir_name in os.listdir(root_path):\n",
    "    if dir_name not in [\".DS_Store\",\".ipynb_checkpoints\"]:\n",
    "        file_path = root_path+'/'+dir_name\n",
    "        lyric_data[dir_name] = dict()\n",
    "        for file_name in os.listdir(file_path):\n",
    "            full_file_path = file_path+'/'+file_name\n",
    "            with open(full_file_path, 'r') as f:\n",
    "                text = f.read()\n",
    "                title = text.split(\"\\n\")[0].strip('\"')\n",
    "                artist = dir_name\n",
    "                lyric_data[artist][title] = text\n",
    "        print(f\"Read lyrics: {len(lyric_data[artist].keys())} songs of {dir_name}\")\n",
    "        \n",
    "# Section Complete"
   ]
  },
  {
   "cell_type": "code",
   "execution_count": 5,
   "metadata": {},
   "outputs": [
    {
     "data": {
      "text/html": [
       "<div>\n",
       "<style scoped>\n",
       "    .dataframe tbody tr th:only-of-type {\n",
       "        vertical-align: middle;\n",
       "    }\n",
       "\n",
       "    .dataframe tbody tr th {\n",
       "        vertical-align: top;\n",
       "    }\n",
       "\n",
       "    .dataframe thead th {\n",
       "        text-align: right;\n",
       "    }\n",
       "</style>\n",
       "<table border=\"1\" class=\"dataframe\">\n",
       "  <thead>\n",
       "    <tr style=\"text-align: right;\">\n",
       "      <th></th>\n",
       "      <th>title</th>\n",
       "      <th>artist</th>\n",
       "      <th>lyric</th>\n",
       "    </tr>\n",
       "  </thead>\n",
       "  <tbody>\n",
       "    <tr>\n",
       "      <th>0</th>\n",
       "      <td>88 Degrees</td>\n",
       "      <td>cher</td>\n",
       "      <td>\"88 Degrees\"\\n\\n\\n\\nStuck in L.A., ain't got n...</td>\n",
       "    </tr>\n",
       "    <tr>\n",
       "      <th>1</th>\n",
       "      <td>A Different Kind Of Love Song</td>\n",
       "      <td>cher</td>\n",
       "      <td>\"A Different Kind Of Love Song\"\\n\\n\\n\\nWhat if...</td>\n",
       "    </tr>\n",
       "    <tr>\n",
       "      <th>2</th>\n",
       "      <td>After All</td>\n",
       "      <td>cher</td>\n",
       "      <td>\"After All\"\\n\\n\\n\\nWell, here we are again\\nI ...</td>\n",
       "    </tr>\n",
       "    <tr>\n",
       "      <th>3</th>\n",
       "      <td>Again</td>\n",
       "      <td>cher</td>\n",
       "      <td>\"Again\"\\n\\n\\n\\nAgain evening finds me at your ...</td>\n",
       "    </tr>\n",
       "    <tr>\n",
       "      <th>4</th>\n",
       "      <td>Alfie</td>\n",
       "      <td>cher</td>\n",
       "      <td>\"Alfie\"\\n\\n\\n\\nWhat's it all about, Alfie?\\nIs...</td>\n",
       "    </tr>\n",
       "  </tbody>\n",
       "</table>\n",
       "</div>"
      ],
      "text/plain": [
       "                           title artist  \\\n",
       "0                     88 Degrees   cher   \n",
       "1  A Different Kind Of Love Song   cher   \n",
       "2                      After All   cher   \n",
       "3                          Again   cher   \n",
       "4                          Alfie   cher   \n",
       "\n",
       "                                               lyric  \n",
       "0  \"88 Degrees\"\\n\\n\\n\\nStuck in L.A., ain't got n...  \n",
       "1  \"A Different Kind Of Love Song\"\\n\\n\\n\\nWhat if...  \n",
       "2  \"After All\"\\n\\n\\n\\nWell, here we are again\\nI ...  \n",
       "3  \"Again\"\\n\\n\\n\\nAgain evening finds me at your ...  \n",
       "4  \"Alfie\"\\n\\n\\n\\nWhat's it all about, Alfie?\\nIs...  "
      ]
     },
     "execution_count": 5,
     "metadata": {},
     "output_type": "execute_result"
    }
   ],
   "source": [
    "lyric_df = (pd.DataFrame(lyric_data)\n",
    "            .reset_index()\n",
    "            .rename(columns = {'index':'title'}))\n",
    "lyric_df.loc[lyric_df['robyn'].isnull()==False,'artist'] = 'robyn'\n",
    "lyric_df.loc[lyric_df['cher'].isnull()==False,'artist'] = 'cher'\n",
    "lyric_df.loc[lyric_df['robyn'].isnull()==False,'lyric'] = lyric_df['robyn']\n",
    "lyric_df.loc[lyric_df['cher'].isnull()==False,'lyric'] = lyric_df['cher']\n",
    "lyric_df.drop(['cher','robyn'],axis = 1, inplace=True)\n",
    "lyric_df.head()\n",
    "\n",
    "# Section Complete"
   ]
  },
  {
   "cell_type": "code",
   "execution_count": 6,
   "metadata": {},
   "outputs": [
    {
     "name": "stdout",
     "output_type": "stream",
     "text": [
      "Read file:./M1 Results/twitter/cher_followers_data.txt 3994803 rows\n",
      "Read file:./M1 Results/twitter/robynkonichiwa_followers_data.txt 358372 rows\n",
      "Create dataframe: 4353175 rows in total.\n"
     ]
    }
   ],
   "source": [
    "# Read in the twitter data:\n",
    "\n",
    "root_path = \"./M1 Results/twitter\"\n",
    "twitter_data = list()\n",
    "for file_name in os.listdir(root_path):\n",
    "    if 'data' in file_name:\n",
    "        file_path = root_path+'/'+file_name\n",
    "        columns = ['screen_name','name','id','location','followers_count','friends_count','description']\n",
    "        df = pd.read_csv(file_path,sep='\\\\t',engine='python')\n",
    "        df['following'] = file_name.split(\"_followers\")[0]\n",
    "        twitter_data.append(df[['following','description']])\n",
    "        print(f\"Read file:{file_path}\",f\"{df.shape[0]} rows\")\n",
    "        \n",
    "twitter_df = pd.concat(twitter_data,axis=0).fillna(\" \")\n",
    "print(f\"Create dataframe: {twitter_df.shape[0]} rows in total.\")\n",
    "\n",
    "# Section Complete"
   ]
  },
  {
   "cell_type": "code",
   "execution_count": 7,
   "metadata": {},
   "outputs": [],
   "source": [
    "# Read in the positive and negative words and the\n",
    "# tidytext sentiment. Store these so that the positive\n",
    "# words are associated with a score of +1 and negative words\n",
    "# are associated with a score of -1. You can use a dataframe or a \n",
    "# dictionary for this.\n",
    "\n",
    "positive_w_df = pd.read_csv(\"./positive-words.txt\",header=None,skiprows=34,names=['word'])\n",
    "positive_w_df['sentiment'] = 'positive'\n",
    "positive_w_df['score'] = 1\n",
    "\n",
    "negative_w_df = pd.read_csv(\"./negative-words.txt\",header=None,skiprows=34,names=['word'],encoding='latin-1')\n",
    "negative_w_df['sentiment'] = 'negative'\n",
    "negative_w_df['score'] = -1\n",
    "\n",
    "tidytext_df = pd.read_csv(\"./tidytext_sentiments.txt\",sep=\"\\t\")\n",
    "\n",
    "# Section Complete"
   ]
  },
  {
   "cell_type": "code",
   "execution_count": 8,
   "metadata": {},
   "outputs": [
    {
     "data": {
      "text/html": [
       "<div>\n",
       "<style scoped>\n",
       "    .dataframe tbody tr th:only-of-type {\n",
       "        vertical-align: middle;\n",
       "    }\n",
       "\n",
       "    .dataframe tbody tr th {\n",
       "        vertical-align: top;\n",
       "    }\n",
       "\n",
       "    .dataframe thead th {\n",
       "        text-align: right;\n",
       "    }\n",
       "</style>\n",
       "<table border=\"1\" class=\"dataframe\">\n",
       "  <thead>\n",
       "    <tr style=\"text-align: right;\">\n",
       "      <th></th>\n",
       "      <th>word</th>\n",
       "      <th>sentiment</th>\n",
       "      <th>score</th>\n",
       "    </tr>\n",
       "  </thead>\n",
       "  <tbody>\n",
       "    <tr>\n",
       "      <th>0</th>\n",
       "      <td>a+</td>\n",
       "      <td>positive</td>\n",
       "      <td>1</td>\n",
       "    </tr>\n",
       "    <tr>\n",
       "      <th>1</th>\n",
       "      <td>abound</td>\n",
       "      <td>positive</td>\n",
       "      <td>1</td>\n",
       "    </tr>\n",
       "    <tr>\n",
       "      <th>2</th>\n",
       "      <td>abounds</td>\n",
       "      <td>positive</td>\n",
       "      <td>1</td>\n",
       "    </tr>\n",
       "    <tr>\n",
       "      <th>3</th>\n",
       "      <td>abundance</td>\n",
       "      <td>positive</td>\n",
       "      <td>1</td>\n",
       "    </tr>\n",
       "    <tr>\n",
       "      <th>4</th>\n",
       "      <td>abundant</td>\n",
       "      <td>positive</td>\n",
       "      <td>1</td>\n",
       "    </tr>\n",
       "  </tbody>\n",
       "</table>\n",
       "</div>"
      ],
      "text/plain": [
       "        word sentiment  score\n",
       "0         a+  positive      1\n",
       "1     abound  positive      1\n",
       "2    abounds  positive      1\n",
       "3  abundance  positive      1\n",
       "4   abundant  positive      1"
      ]
     },
     "execution_count": 8,
     "metadata": {},
     "output_type": "execute_result"
    }
   ],
   "source": [
    "positive_w_df.head()\n",
    "\n",
    "# Section Complete"
   ]
  },
  {
   "cell_type": "code",
   "execution_count": 9,
   "metadata": {},
   "outputs": [
    {
     "data": {
      "text/html": [
       "<div>\n",
       "<style scoped>\n",
       "    .dataframe tbody tr th:only-of-type {\n",
       "        vertical-align: middle;\n",
       "    }\n",
       "\n",
       "    .dataframe tbody tr th {\n",
       "        vertical-align: top;\n",
       "    }\n",
       "\n",
       "    .dataframe thead th {\n",
       "        text-align: right;\n",
       "    }\n",
       "</style>\n",
       "<table border=\"1\" class=\"dataframe\">\n",
       "  <thead>\n",
       "    <tr style=\"text-align: right;\">\n",
       "      <th></th>\n",
       "      <th>word</th>\n",
       "      <th>sentiment</th>\n",
       "      <th>score</th>\n",
       "    </tr>\n",
       "  </thead>\n",
       "  <tbody>\n",
       "    <tr>\n",
       "      <th>0</th>\n",
       "      <td>2-faced</td>\n",
       "      <td>negative</td>\n",
       "      <td>-1</td>\n",
       "    </tr>\n",
       "    <tr>\n",
       "      <th>1</th>\n",
       "      <td>2-faces</td>\n",
       "      <td>negative</td>\n",
       "      <td>-1</td>\n",
       "    </tr>\n",
       "    <tr>\n",
       "      <th>2</th>\n",
       "      <td>abnormal</td>\n",
       "      <td>negative</td>\n",
       "      <td>-1</td>\n",
       "    </tr>\n",
       "    <tr>\n",
       "      <th>3</th>\n",
       "      <td>abolish</td>\n",
       "      <td>negative</td>\n",
       "      <td>-1</td>\n",
       "    </tr>\n",
       "    <tr>\n",
       "      <th>4</th>\n",
       "      <td>abominable</td>\n",
       "      <td>negative</td>\n",
       "      <td>-1</td>\n",
       "    </tr>\n",
       "  </tbody>\n",
       "</table>\n",
       "</div>"
      ],
      "text/plain": [
       "         word sentiment  score\n",
       "0     2-faced  negative     -1\n",
       "1     2-faces  negative     -1\n",
       "2    abnormal  negative     -1\n",
       "3     abolish  negative     -1\n",
       "4  abominable  negative     -1"
      ]
     },
     "execution_count": 9,
     "metadata": {},
     "output_type": "execute_result"
    }
   ],
   "source": [
    "negative_w_df.head()\n",
    "\n",
    "# Section Complete"
   ]
  },
  {
   "cell_type": "code",
   "execution_count": 10,
   "metadata": {},
   "outputs": [
    {
     "data": {
      "text/html": [
       "<div>\n",
       "<style scoped>\n",
       "    .dataframe tbody tr th:only-of-type {\n",
       "        vertical-align: middle;\n",
       "    }\n",
       "\n",
       "    .dataframe tbody tr th {\n",
       "        vertical-align: top;\n",
       "    }\n",
       "\n",
       "    .dataframe thead th {\n",
       "        text-align: right;\n",
       "    }\n",
       "</style>\n",
       "<table border=\"1\" class=\"dataframe\">\n",
       "  <thead>\n",
       "    <tr style=\"text-align: right;\">\n",
       "      <th></th>\n",
       "      <th>word</th>\n",
       "      <th>sentiment</th>\n",
       "      <th>lexicon</th>\n",
       "    </tr>\n",
       "  </thead>\n",
       "  <tbody>\n",
       "    <tr>\n",
       "      <th>0</th>\n",
       "      <td>abandon</td>\n",
       "      <td>negative</td>\n",
       "      <td>nrc</td>\n",
       "    </tr>\n",
       "    <tr>\n",
       "      <th>1</th>\n",
       "      <td>abandoned</td>\n",
       "      <td>negative</td>\n",
       "      <td>nrc</td>\n",
       "    </tr>\n",
       "    <tr>\n",
       "      <th>2</th>\n",
       "      <td>abandonment</td>\n",
       "      <td>negative</td>\n",
       "      <td>nrc</td>\n",
       "    </tr>\n",
       "    <tr>\n",
       "      <th>3</th>\n",
       "      <td>abba</td>\n",
       "      <td>positive</td>\n",
       "      <td>nrc</td>\n",
       "    </tr>\n",
       "    <tr>\n",
       "      <th>4</th>\n",
       "      <td>abduction</td>\n",
       "      <td>negative</td>\n",
       "      <td>nrc</td>\n",
       "    </tr>\n",
       "  </tbody>\n",
       "</table>\n",
       "</div>"
      ],
      "text/plain": [
       "          word sentiment lexicon\n",
       "0      abandon  negative     nrc\n",
       "1    abandoned  negative     nrc\n",
       "2  abandonment  negative     nrc\n",
       "3         abba  positive     nrc\n",
       "4    abduction  negative     nrc"
      ]
     },
     "execution_count": 10,
     "metadata": {},
     "output_type": "execute_result"
    }
   ],
   "source": [
    "tidytext_df.head()\n",
    "\n",
    "# Section Complete"
   ]
  },
  {
   "cell_type": "markdown",
   "metadata": {},
   "source": [
    "## Sentiment Analysis on Songs\n",
    "\n",
    "In this section, score the sentiment for all the songs for both artists in your data set. Score the sentiment by manually calculating the sentiment using the combined lexicons provided in this repository. \n",
    "\n",
    "After you have calculated these sentiments, answer the questions at the end of this section.\n"
   ]
  },
  {
   "cell_type": "code",
   "execution_count": 11,
   "metadata": {},
   "outputs": [],
   "source": [
    "# your code here:\n",
    "\n",
    "word_dict = {}\n",
    "pos_score = 1\n",
    "neg_score = -1\n",
    "# Adding the positive words to the dictionary\n",
    "for word in positive_w_df['word'].tolist(): word_dict[word] = pos_score\n",
    "# Adding the negative words to the dictionary\n",
    "for word in negative_w_df['word'].tolist(): word_dict[word] = neg_score\n",
    "    "
   ]
  },
  {
   "cell_type": "code",
   "execution_count": 12,
   "metadata": {},
   "outputs": [],
   "source": [
    "from nltk.tokenize import word_tokenize\n",
    "def sentiment_score(text):\n",
    "  sentiment_score = 0\n",
    "  bag_of_words = word_tokenize(text.lower()) \n",
    "  for word in bag_of_words:\n",
    "    if word in word_dict:\n",
    "      sentiment_score += word_dict[word]\n",
    "  return sentiment_score / len(bag_of_words)"
   ]
  },
  {
   "cell_type": "code",
   "execution_count": 13,
   "metadata": {},
   "outputs": [],
   "source": [
    "lyric_df['Sentiment_Score'] = lyric_df['lyric'].apply(sentiment_score)"
   ]
  },
  {
   "cell_type": "code",
   "execution_count": 14,
   "metadata": {},
   "outputs": [
    {
     "data": {
      "text/plain": [
       "<AxesSubplot:title={'center':'Sentiment_Score'}, xlabel='[artist]'>"
      ]
     },
     "execution_count": 14,
     "metadata": {},
     "output_type": "execute_result"
    },
    {
     "data": {
      "image/png": "[encoded data removed]",
      "text/plain": [
       "<Figure size 1080x360 with 1 Axes>"
      ]
     },
     "metadata": {
      "needs_background": "light"
     },
     "output_type": "display_data"
    }
   ],
   "source": [
    "# check distribution - plot 1: boxplot:\n",
    "\n",
    "lyric_df[['Sentiment_Score','artist']].boxplot(by='artist',figsize=(15,5),showmeans=True)\n",
    "\n",
    "# Section Complete"
   ]
  },
  {
   "cell_type": "code",
   "execution_count": 15,
   "metadata": {},
   "outputs": [
    {
     "data": {
      "text/html": [
       "<div>\n",
       "<style scoped>\n",
       "    .dataframe tbody tr th:only-of-type {\n",
       "        vertical-align: middle;\n",
       "    }\n",
       "\n",
       "    .dataframe tbody tr th {\n",
       "        vertical-align: top;\n",
       "    }\n",
       "\n",
       "    .dataframe thead th {\n",
       "        text-align: right;\n",
       "    }\n",
       "</style>\n",
       "<table border=\"1\" class=\"dataframe\">\n",
       "  <thead>\n",
       "    <tr style=\"text-align: right;\">\n",
       "      <th></th>\n",
       "      <th>title</th>\n",
       "      <th>artist</th>\n",
       "      <th>lyric</th>\n",
       "      <th>Sentiment_Score</th>\n",
       "    </tr>\n",
       "  </thead>\n",
       "  <tbody>\n",
       "    <tr>\n",
       "      <th>42</th>\n",
       "      <td>Cry Myself To Sleep</td>\n",
       "      <td>cher</td>\n",
       "      <td>\"Cry Myself To Sleep\"\\n\\n\\n\\nEvery night, I la...</td>\n",
       "      <td>-0.097222</td>\n",
       "    </tr>\n",
       "    <tr>\n",
       "      <th>177</th>\n",
       "      <td>Move Me</td>\n",
       "      <td>cher</td>\n",
       "      <td>\"Move Me\"\\n\\n\\n\\nMove me\\nLove the way you mov...</td>\n",
       "      <td>0.155172</td>\n",
       "    </tr>\n",
       "  </tbody>\n",
       "</table>\n",
       "</div>"
      ],
      "text/plain": [
       "                   title artist  \\\n",
       "42   Cry Myself To Sleep   cher   \n",
       "177              Move Me   cher   \n",
       "\n",
       "                                                 lyric  Sentiment_Score  \n",
       "42   \"Cry Myself To Sleep\"\\n\\n\\n\\nEvery night, I la...        -0.097222  \n",
       "177  \"Move Me\"\\n\\n\\n\\nMove me\\nLove the way you mov...         0.155172  "
      ]
     },
     "execution_count": 15,
     "metadata": {},
     "output_type": "execute_result"
    }
   ],
   "source": [
    "lyric_df[lyric_df['artist']=='cher'].sort_values(by=['Sentiment_Score']).iloc[[0,-1]]"
   ]
  },
  {
   "cell_type": "code",
   "execution_count": 16,
   "metadata": {},
   "outputs": [
    {
     "data": {
      "text/html": [
       "<div>\n",
       "<style scoped>\n",
       "    .dataframe tbody tr th:only-of-type {\n",
       "        vertical-align: middle;\n",
       "    }\n",
       "\n",
       "    .dataframe tbody tr th {\n",
       "        vertical-align: top;\n",
       "    }\n",
       "\n",
       "    .dataframe thead th {\n",
       "        text-align: right;\n",
       "    }\n",
       "</style>\n",
       "<table border=\"1\" class=\"dataframe\">\n",
       "  <thead>\n",
       "    <tr style=\"text-align: right;\">\n",
       "      <th></th>\n",
       "      <th>title</th>\n",
       "      <th>artist</th>\n",
       "      <th>lyric</th>\n",
       "      <th>Sentiment_Score</th>\n",
       "    </tr>\n",
       "  </thead>\n",
       "  <tbody>\n",
       "    <tr>\n",
       "      <th>337</th>\n",
       "      <td>Don't Fucking Tell Me What To Do</td>\n",
       "      <td>robyn</td>\n",
       "      <td>\"Don't Fucking Tell Me What To Do\"\\n\\n\\n\\nMy d...</td>\n",
       "      <td>-0.170354</td>\n",
       "    </tr>\n",
       "    <tr>\n",
       "      <th>371</th>\n",
       "      <td>Love Is Free</td>\n",
       "      <td>robyn</td>\n",
       "      <td>\"Love Is Free\"\\n\\n\\n\\nFree\\nLove is free, baby...</td>\n",
       "      <td>0.179894</td>\n",
       "    </tr>\n",
       "  </tbody>\n",
       "</table>\n",
       "</div>"
      ],
      "text/plain": [
       "                                title artist  \\\n",
       "337  Don't Fucking Tell Me What To Do  robyn   \n",
       "371                      Love Is Free  robyn   \n",
       "\n",
       "                                                 lyric  Sentiment_Score  \n",
       "337  \"Don't Fucking Tell Me What To Do\"\\n\\n\\n\\nMy d...        -0.170354  \n",
       "371  \"Love Is Free\"\\n\\n\\n\\nFree\\nLove is free, baby...         0.179894  "
      ]
     },
     "execution_count": 16,
     "metadata": {},
     "output_type": "execute_result"
    }
   ],
   "source": [
    "lyric_df[lyric_df['artist']=='robyn'].sort_values(by=['Sentiment_Score']).iloc[[0,-1]]"
   ]
  },
  {
   "cell_type": "code",
   "execution_count": 17,
   "metadata": {},
   "outputs": [],
   "source": [
    "# Both artists captured above, analysis below"
   ]
  },
  {
   "cell_type": "markdown",
   "metadata": {},
   "source": [
    "### Questions\n",
    "\n",
    "Q: Overall, which artist has the higher average sentiment per song? \n",
    "\n",
    "A: When I take a look at the means for artists it appears to be that Cher has the higher sentiment analysis score per song. I could be wrong, but that is what I am interpretting the higher mean to be.\n",
    "\n",
    "---\n",
    "\n",
    "Q: For your first artist, what songs have the highest and lowest sentiments? Print those songs to the screen.\n",
    "\n",
    "A: For my first artist the lowest appears to be the song, Cry Myself to Sleep. For my first artist the highest scored song would be, My Love.\n",
    "\n",
    "---\n",
    "\n",
    "Q: For your second artist, what songs have the highest and lowest sentiments? Print those songs to the screen.\n",
    "\n",
    "A: For my second artist it looks like the song, Dont F tell me what to think is the lowest and the highest would be, Love is Free.\n",
    "\n",
    "---\n",
    "\n",
    "Q: Plot the distributions of the sentiment scores for both artists. You can use `seaborn` to plot densities or plot histograms in matplotlib.\n",
    "\n",
    "\n"
   ]
  },
  {
   "cell_type": "code",
   "execution_count": 18,
   "metadata": {},
   "outputs": [
    {
     "data": {
      "text/plain": [
       "array([<AxesSubplot:title={'center':'cher'}>,\n",
       "       <AxesSubplot:title={'center':'robyn'}>], dtype=object)"
      ]
     },
     "execution_count": 18,
     "metadata": {},
     "output_type": "execute_result"
    },
    {
     "data": {
      "image/png": "[encoded data removed]",
      "text/plain": [
       "<Figure size 1080x360 with 2 Axes>"
      ]
     },
     "metadata": {
      "needs_background": "light"
     },
     "output_type": "display_data"
    }
   ],
   "source": [
    "# check distribution plot:\n",
    "\n",
    "lyric_df[['Sentiment_Score','artist']].hist(by='artist',figsize=(15,5))\n",
    "\n",
    "# Section Complete"
   ]
  },
  {
   "cell_type": "markdown",
   "metadata": {},
   "source": [
    "## Sentiment Analysis on Twitter Descriptions\n",
    "\n",
    "In this section, define two sets of emojis you designate as positive and negative. Make sure to have at least 10 emojis per set. You can learn about the most popular emojis on Twitter at [the emojitracker](https://emojitracker.com/). \n",
    "\n",
    "Associate your positive emojis with a score of +1, negative with -1. Score the average sentiment of your two artists based on the Twitter descriptions of their followers. The average sentiment can just be the total score divided by number of followers. "
   ]
  },
  {
   "cell_type": "code",
   "execution_count": 19,
   "metadata": {},
   "outputs": [
    {
     "data": {
      "text/html": [
       "<div>\n",
       "<style scoped>\n",
       "    .dataframe tbody tr th:only-of-type {\n",
       "        vertical-align: middle;\n",
       "    }\n",
       "\n",
       "    .dataframe tbody tr th {\n",
       "        vertical-align: top;\n",
       "    }\n",
       "\n",
       "    .dataframe thead th {\n",
       "        text-align: right;\n",
       "    }\n",
       "</style>\n",
       "<table border=\"1\" class=\"dataframe\">\n",
       "  <thead>\n",
       "    <tr style=\"text-align: right;\">\n",
       "      <th></th>\n",
       "      <th>Emoji</th>\n",
       "      <th>Unicode codepoint</th>\n",
       "      <th>Occurrences</th>\n",
       "      <th>Position</th>\n",
       "      <th>Negative</th>\n",
       "      <th>Neutral</th>\n",
       "      <th>Positive</th>\n",
       "      <th>Unicode name</th>\n",
       "      <th>Unicode block</th>\n",
       "      <th>pos</th>\n",
       "      <th>neg</th>\n",
       "    </tr>\n",
       "  </thead>\n",
       "  <tbody>\n",
       "    <tr>\n",
       "      <th>0</th>\n",
       "      <td>😂</td>\n",
       "      <td>0x1f602</td>\n",
       "      <td>14622</td>\n",
       "      <td>0.805101</td>\n",
       "      <td>3614</td>\n",
       "      <td>4163</td>\n",
       "      <td>6845</td>\n",
       "      <td>FACE WITH TEARS OF JOY</td>\n",
       "      <td>Emoticons</td>\n",
       "      <td>0.468130</td>\n",
       "      <td>0.247162</td>\n",
       "    </tr>\n",
       "    <tr>\n",
       "      <th>1</th>\n",
       "      <td>❤</td>\n",
       "      <td>0x2764</td>\n",
       "      <td>8050</td>\n",
       "      <td>0.746943</td>\n",
       "      <td>355</td>\n",
       "      <td>1334</td>\n",
       "      <td>6361</td>\n",
       "      <td>HEAVY BLACK HEART</td>\n",
       "      <td>Dingbats</td>\n",
       "      <td>0.790186</td>\n",
       "      <td>0.044099</td>\n",
       "    </tr>\n",
       "    <tr>\n",
       "      <th>2</th>\n",
       "      <td>♥</td>\n",
       "      <td>0x2665</td>\n",
       "      <td>7144</td>\n",
       "      <td>0.753806</td>\n",
       "      <td>252</td>\n",
       "      <td>1942</td>\n",
       "      <td>4950</td>\n",
       "      <td>BLACK HEART SUIT</td>\n",
       "      <td>Miscellaneous Symbols</td>\n",
       "      <td>0.692889</td>\n",
       "      <td>0.035274</td>\n",
       "    </tr>\n",
       "    <tr>\n",
       "      <th>3</th>\n",
       "      <td>😍</td>\n",
       "      <td>0x1f60d</td>\n",
       "      <td>6359</td>\n",
       "      <td>0.765292</td>\n",
       "      <td>329</td>\n",
       "      <td>1390</td>\n",
       "      <td>4640</td>\n",
       "      <td>SMILING FACE WITH HEART-SHAPED EYES</td>\n",
       "      <td>Emoticons</td>\n",
       "      <td>0.729674</td>\n",
       "      <td>0.051738</td>\n",
       "    </tr>\n",
       "    <tr>\n",
       "      <th>4</th>\n",
       "      <td>😭</td>\n",
       "      <td>0x1f62d</td>\n",
       "      <td>5526</td>\n",
       "      <td>0.803352</td>\n",
       "      <td>2412</td>\n",
       "      <td>1218</td>\n",
       "      <td>1896</td>\n",
       "      <td>LOUDLY CRYING FACE</td>\n",
       "      <td>Emoticons</td>\n",
       "      <td>0.343105</td>\n",
       "      <td>0.436482</td>\n",
       "    </tr>\n",
       "  </tbody>\n",
       "</table>\n",
       "</div>"
      ],
      "text/plain": [
       "  Emoji Unicode codepoint  Occurrences  Position  Negative  Neutral  Positive  \\\n",
       "0     😂           0x1f602        14622  0.805101      3614     4163      6845   \n",
       "1     ❤            0x2764         8050  0.746943       355     1334      6361   \n",
       "2     ♥            0x2665         7144  0.753806       252     1942      4950   \n",
       "3     😍           0x1f60d         6359  0.765292       329     1390      4640   \n",
       "4     😭           0x1f62d         5526  0.803352      2412     1218      1896   \n",
       "\n",
       "                          Unicode name          Unicode block       pos  \\\n",
       "0               FACE WITH TEARS OF JOY              Emoticons  0.468130   \n",
       "1                    HEAVY BLACK HEART               Dingbats  0.790186   \n",
       "2                     BLACK HEART SUIT  Miscellaneous Symbols  0.692889   \n",
       "3  SMILING FACE WITH HEART-SHAPED EYES              Emoticons  0.729674   \n",
       "4                   LOUDLY CRYING FACE              Emoticons  0.343105   \n",
       "\n",
       "        neg  \n",
       "0  0.247162  \n",
       "1  0.044099  \n",
       "2  0.035274  \n",
       "3  0.051738  \n",
       "4  0.436482  "
      ]
     },
     "execution_count": 19,
     "metadata": {},
     "output_type": "execute_result"
    }
   ],
   "source": [
    "# your code here:\n",
    "\n",
    "emoji_ranking_df = pd.read_csv(\"./Emoji_Sentiment_Data_v1.0.csv\")\n",
    "emoji_ranking_df['pos'] = emoji_ranking_df['Positive']/emoji_ranking_df['Occurrences']\n",
    "emoji_ranking_df['neg'] = emoji_ranking_df['Negative']/emoji_ranking_df['Occurrences']\n",
    "emoji_ranking_df.head(5)"
   ]
  },
  {
   "cell_type": "code",
   "execution_count": 20,
   "metadata": {},
   "outputs": [],
   "source": [
    "emoji_dict = {}\n",
    "pos_score = 1\n",
    "neg_score = -1\n",
    "neural_score = 0\n",
    "\n",
    "# Adding the positive words to the dictionary\n",
    "for idx,emo in enumerate(emoji_ranking_df['Emoji'].tolist()):\n",
    "  if emoji_ranking_df['pos'][idx] > emoji_ranking_df['neg'][idx]:\n",
    "    emoji_dict[emo] = pos_score\n",
    "  elif emoji_ranking_df['pos'][idx] < emoji_ranking_df['neg'][idx]:\n",
    "    emoji_dict[emo] = neg_score\n",
    "  else:\n",
    "    emoji_dict[emo] = neural_score\n"
   ]
  },
  {
   "cell_type": "code",
   "execution_count": 21,
   "metadata": {},
   "outputs": [],
   "source": [
    "def is_emoji(text):\n",
    "    return[s for s in text if s in emoji.UNICODE_EMOJI['en']]\n",
    "\n",
    "def emoji_sentiment_score(text):\n",
    "  sentiment_score = 0\n",
    "  bag_of_emoji = is_emoji(text)\n",
    "  if bag_of_emoji:\n",
    "    for emo in bag_of_emoji:\n",
    "      if emo in emoji_dict:\n",
    "        sentiment_score += emoji_dict[emo]\n",
    "    return sentiment_score / len(bag_of_emoji)\n",
    "  else:\n",
    "    return None"
   ]
  },
  {
   "cell_type": "code",
   "execution_count": 22,
   "metadata": {},
   "outputs": [],
   "source": [
    "twitter_df['emoji_Sentiment_Score'] = twitter_df['description'].apply(emoji_sentiment_score)"
   ]
  },
  {
   "cell_type": "code",
   "execution_count": 23,
   "metadata": {},
   "outputs": [
    {
     "data": {
      "text/html": [
       "<div>\n",
       "<style scoped>\n",
       "    .dataframe tbody tr th:only-of-type {\n",
       "        vertical-align: middle;\n",
       "    }\n",
       "\n",
       "    .dataframe tbody tr th {\n",
       "        vertical-align: top;\n",
       "    }\n",
       "\n",
       "    .dataframe thead th {\n",
       "        text-align: right;\n",
       "    }\n",
       "</style>\n",
       "<table border=\"1\" class=\"dataframe\">\n",
       "  <thead>\n",
       "    <tr style=\"text-align: right;\">\n",
       "      <th></th>\n",
       "      <th>following</th>\n",
       "      <th>description</th>\n",
       "      <th>emoji_Sentiment_Score</th>\n",
       "    </tr>\n",
       "  </thead>\n",
       "  <tbody>\n",
       "    <tr>\n",
       "      <th>0</th>\n",
       "      <td>cher</td>\n",
       "      <td></td>\n",
       "      <td>NaN</td>\n",
       "    </tr>\n",
       "    <tr>\n",
       "      <th>1</th>\n",
       "      <td>cher</td>\n",
       "      <td>𝙿𝚛𝚘𝚞𝚍 𝚜𝚞𝚙𝚙𝚘𝚛𝚝𝚎𝚛 𝚘𝚏 𝚖𝚎𝚜𝚜𝚢 𝚋𝚞𝚗𝚜 &amp; 𝚕𝚎𝚐𝚐𝚒𝚗𝚐𝚜</td>\n",
       "      <td>NaN</td>\n",
       "    </tr>\n",
       "    <tr>\n",
       "      <th>2</th>\n",
       "      <td>cher</td>\n",
       "      <td>163㎝／愛かっぷ💜26歳🍒 工〇好きな女の子💓 フォローしてくれたらDMします🧡</td>\n",
       "      <td>0.75</td>\n",
       "    </tr>\n",
       "    <tr>\n",
       "      <th>3</th>\n",
       "      <td>cher</td>\n",
       "      <td>csu</td>\n",
       "      <td>NaN</td>\n",
       "    </tr>\n",
       "    <tr>\n",
       "      <th>4</th>\n",
       "      <td>cher</td>\n",
       "      <td>Writer @Washinformer @SpelmanCollege alumna #D...</td>\n",
       "      <td>NaN</td>\n",
       "    </tr>\n",
       "  </tbody>\n",
       "</table>\n",
       "</div>"
      ],
      "text/plain": [
       "  following                                        description  \\\n",
       "0      cher                                                      \n",
       "1      cher           𝙿𝚛𝚘𝚞𝚍 𝚜𝚞𝚙𝚙𝚘𝚛𝚝𝚎𝚛 𝚘𝚏 𝚖𝚎𝚜𝚜𝚢 𝚋𝚞𝚗𝚜 & 𝚕𝚎𝚐𝚐𝚒𝚗𝚐𝚜   \n",
       "2      cher          163㎝／愛かっぷ💜26歳🍒 工〇好きな女の子💓 フォローしてくれたらDMします🧡   \n",
       "3      cher                                                csu   \n",
       "4      cher  Writer @Washinformer @SpelmanCollege alumna #D...   \n",
       "\n",
       "   emoji_Sentiment_Score  \n",
       "0                    NaN  \n",
       "1                    NaN  \n",
       "2                   0.75  \n",
       "3                    NaN  \n",
       "4                    NaN  "
      ]
     },
     "execution_count": 23,
     "metadata": {},
     "output_type": "execute_result"
    }
   ],
   "source": [
    "twitter_df.head()"
   ]
  },
  {
   "cell_type": "code",
   "execution_count": 24,
   "metadata": {},
   "outputs": [
    {
     "data": {
      "text/plain": [
       "following\n",
       "cher              0.705995\n",
       "robynkonichiwa    0.701168\n",
       "Name: emoji_Sentiment_Score, dtype: float64"
      ]
     },
     "execution_count": 24,
     "metadata": {},
     "output_type": "execute_result"
    }
   ],
   "source": [
    "twitter_df.dropna(subset=['emoji_Sentiment_Score']).groupby('following')['emoji_Sentiment_Score'].mean()"
   ]
  },
  {
   "cell_type": "code",
   "execution_count": 37,
   "metadata": {},
   "outputs": [],
   "source": [
    "#robyn_emoji = [emo for x in twitter_df[twitter_df['following']=='robynkonichiwa'].dropna(subset=['emoji_Sentiment_Score'])['Emoji'].tolist() for emo in x]\n",
    "#cher_emoji = [emo for x in twitter_df[twitter_df['following']=='cher'].dropna(subset=['emoji_Sentiment_Score'])['Emoji'].tolist() for emo in x]\n",
    "\n",
    "# Received an error here that I could not get to properly funciton. I tried to move on past this point, but I tried to summarize the findings."
   ]
  },
  {
   "cell_type": "code",
   "execution_count": null,
   "metadata": {},
   "outputs": [],
   "source": []
  },
  {
   "cell_type": "code",
   "execution_count": null,
   "metadata": {},
   "outputs": [],
   "source": []
  },
  {
   "cell_type": "code",
   "execution_count": null,
   "metadata": {},
   "outputs": [],
   "source": []
  },
  {
   "cell_type": "markdown",
   "metadata": {},
   "source": [
    "Q: What is the average sentiment of your two artists? \n",
    "\n",
    "A: It seems that the average sentiment is around .70 if I did the above seciton correctly.\n",
    "\n",
    "---\n",
    "\n",
    "Q: Which positive emoji is the most popular for each artist? Which negative emoji? \n",
    "\n",
    "A: I was not able to get this to work.\n",
    "\n"
   ]
  },
  {
   "cell_type": "code",
   "execution_count": null,
   "metadata": {},
   "outputs": [],
   "source": [
    "# Section Complete"
   ]
  }
 ],
 "metadata": {
  "kernelspec": {
   "display_name": "Python 3",
   "language": "python",
   "name": "python3"
  },
  "language_info": {
   "codemirror_mode": {
    "name": "ipython",
    "version": 3
   },
   "file_extension": ".py",
   "mimetype": "text/x-python",
   "name": "python",
   "nbconvert_exporter": "python",
   "pygments_lexer": "ipython3",
   "version": "3.8.3"
  }
 },
 "nbformat": 4,
 "nbformat_minor": 5
}
